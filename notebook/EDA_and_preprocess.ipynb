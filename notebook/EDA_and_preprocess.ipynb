{
 "cells": [
  {
   "attachments": {},
   "cell_type": "markdown",
   "metadata": {},
   "source": [
    "## CUSTOMER CHURN PREDICTION"
   ]
  },
  {
   "attachments": {},
   "cell_type": "markdown",
   "metadata": {},
   "source": [
    "Life cycle of Machine learning Project\n",
    "\n",
    "* Understanding the Problem Statement\n",
    "* Data Collection\n",
    "* Data Checks to perform\n",
    "* Exploratory data analysis\n",
    "* Data Pre-Processing\n",
    "* Model Training\n",
    "* Choose best model"
   ]
  },
  {
   "attachments": {},
   "cell_type": "markdown",
   "metadata": {},
   "source": [
    "### Understanding the Problem Statement\n"
   ]
  },
  {
   "attachments": {},
   "cell_type": "markdown",
   "metadata": {},
   "source": [
    "* In the domain of e-commerce, acquiring a new customer is generally more expensive than keeping the existing ones. The customers usually leave if they do not get good incentives. Thus, analyzing customer behavior to predict customer churn and the reasons can be a great solution for businesses especially small businesses and startups to monitor customer behavior and offer a suitable incentive that could help in maintaining the customers. In Saudi Arabia, most of the e-commerce platforms don’t offer an analytics tool for the traders to help them analyze the customer behavior which lead them to close their stores at the end. Therefore, offering a tool that can help them to analyze customer behavior will be a great contribution."
   ]
  },
  {
   "attachments": {},
   "cell_type": "markdown",
   "metadata": {},
   "source": [
    "### Data Collection"
   ]
  },
  {
   "attachments": {},
   "cell_type": "markdown",
   "metadata": {},
   "source": [
    "* Dataset source - https://www.kaggle.com/datasets/ankitverma2010/ecommerce-customer-churn-analysis-and-prediction\n",
    "* The dataset consists of 20 columns and 5630 rows."
   ]
  },
  {
   "attachments": {},
   "cell_type": "markdown",
   "metadata": {},
   "source": [
    "### Import the data and required packages."
   ]
  },
  {
   "attachments": {},
   "cell_type": "markdown",
   "metadata": {},
   "source": [
    "##### Importing Pandas, Numpy, Matplotlib, Seaborn and Warings Library."
   ]
  },
  {
   "cell_type": "code",
   "execution_count": 1,
   "metadata": {},
   "outputs": [],
   "source": [
    "import pandas as pd\n",
    "import numpy as np\n",
    "import matplotlib.pyplot as plt\n",
    "import seaborn as sns\n",
    "import warnings\n",
    "warnings.filterwarnings(\"ignore\")"
   ]
  },
  {
   "attachments": {},
   "cell_type": "markdown",
   "metadata": {},
   "source": [
    "#### Import the CSV Data as Pandas DataFrame"
   ]
  },
  {
   "cell_type": "code",
   "execution_count": 2,
   "metadata": {},
   "outputs": [],
   "source": [
    "df = pd.read_csv(\"data/dataset_original.csv\")"
   ]
  },
  {
   "attachments": {},
   "cell_type": "markdown",
   "metadata": {},
   "source": [
    "##### Show the top 5 records"
   ]
  },
  {
   "cell_type": "code",
   "execution_count": 3,
   "metadata": {},
   "outputs": [
    {
     "data": {
      "text/html": [
       "<div>\n",
       "<style scoped>\n",
       "    .dataframe tbody tr th:only-of-type {\n",
       "        vertical-align: middle;\n",
       "    }\n",
       "\n",
       "    .dataframe tbody tr th {\n",
       "        vertical-align: top;\n",
       "    }\n",
       "\n",
       "    .dataframe thead th {\n",
       "        text-align: right;\n",
       "    }\n",
       "</style>\n",
       "<table border=\"1\" class=\"dataframe\">\n",
       "  <thead>\n",
       "    <tr style=\"text-align: right;\">\n",
       "      <th></th>\n",
       "      <th>CustomerID</th>\n",
       "      <th>Tenure</th>\n",
       "      <th>PreferredLoginDevice</th>\n",
       "      <th>CityTier</th>\n",
       "      <th>WarehouseToHome</th>\n",
       "      <th>PreferredPaymentMode</th>\n",
       "      <th>Gender</th>\n",
       "      <th>HourSpendOnApp</th>\n",
       "      <th>NumberOfDeviceRegistered</th>\n",
       "      <th>PreferedOrderCat</th>\n",
       "      <th>SatisfactionScore</th>\n",
       "      <th>MaritalStatus</th>\n",
       "      <th>NumberOfAddress</th>\n",
       "      <th>Complain</th>\n",
       "      <th>OrderAmountHikeFromlastYear</th>\n",
       "      <th>CouponUsed</th>\n",
       "      <th>OrderCount</th>\n",
       "      <th>DaySinceLastOrder</th>\n",
       "      <th>CashbackAmount</th>\n",
       "      <th>Churn</th>\n",
       "    </tr>\n",
       "  </thead>\n",
       "  <tbody>\n",
       "    <tr>\n",
       "      <th>0</th>\n",
       "      <td>50001</td>\n",
       "      <td>4.0</td>\n",
       "      <td>Mobile Phone</td>\n",
       "      <td>3</td>\n",
       "      <td>6.0</td>\n",
       "      <td>Debit Card</td>\n",
       "      <td>Female</td>\n",
       "      <td>3.0</td>\n",
       "      <td>3</td>\n",
       "      <td>Laptop &amp; Accessory</td>\n",
       "      <td>2</td>\n",
       "      <td>Single</td>\n",
       "      <td>9</td>\n",
       "      <td>1</td>\n",
       "      <td>11.0</td>\n",
       "      <td>1.0</td>\n",
       "      <td>1.0</td>\n",
       "      <td>5.0</td>\n",
       "      <td>160</td>\n",
       "      <td>1</td>\n",
       "    </tr>\n",
       "    <tr>\n",
       "      <th>1</th>\n",
       "      <td>50002</td>\n",
       "      <td>NaN</td>\n",
       "      <td>Phone</td>\n",
       "      <td>1</td>\n",
       "      <td>8.0</td>\n",
       "      <td>UPI</td>\n",
       "      <td>Male</td>\n",
       "      <td>3.0</td>\n",
       "      <td>4</td>\n",
       "      <td>Mobile</td>\n",
       "      <td>3</td>\n",
       "      <td>Single</td>\n",
       "      <td>7</td>\n",
       "      <td>1</td>\n",
       "      <td>15.0</td>\n",
       "      <td>0.0</td>\n",
       "      <td>1.0</td>\n",
       "      <td>0.0</td>\n",
       "      <td>121</td>\n",
       "      <td>1</td>\n",
       "    </tr>\n",
       "    <tr>\n",
       "      <th>2</th>\n",
       "      <td>50003</td>\n",
       "      <td>NaN</td>\n",
       "      <td>Phone</td>\n",
       "      <td>1</td>\n",
       "      <td>30.0</td>\n",
       "      <td>Debit Card</td>\n",
       "      <td>Male</td>\n",
       "      <td>2.0</td>\n",
       "      <td>4</td>\n",
       "      <td>Mobile</td>\n",
       "      <td>3</td>\n",
       "      <td>Single</td>\n",
       "      <td>6</td>\n",
       "      <td>1</td>\n",
       "      <td>14.0</td>\n",
       "      <td>0.0</td>\n",
       "      <td>1.0</td>\n",
       "      <td>3.0</td>\n",
       "      <td>120</td>\n",
       "      <td>1</td>\n",
       "    </tr>\n",
       "    <tr>\n",
       "      <th>3</th>\n",
       "      <td>50004</td>\n",
       "      <td>0.0</td>\n",
       "      <td>Phone</td>\n",
       "      <td>3</td>\n",
       "      <td>15.0</td>\n",
       "      <td>Debit Card</td>\n",
       "      <td>Male</td>\n",
       "      <td>2.0</td>\n",
       "      <td>4</td>\n",
       "      <td>Laptop &amp; Accessory</td>\n",
       "      <td>5</td>\n",
       "      <td>Single</td>\n",
       "      <td>8</td>\n",
       "      <td>0</td>\n",
       "      <td>23.0</td>\n",
       "      <td>0.0</td>\n",
       "      <td>1.0</td>\n",
       "      <td>3.0</td>\n",
       "      <td>134</td>\n",
       "      <td>1</td>\n",
       "    </tr>\n",
       "    <tr>\n",
       "      <th>4</th>\n",
       "      <td>50005</td>\n",
       "      <td>0.0</td>\n",
       "      <td>Phone</td>\n",
       "      <td>1</td>\n",
       "      <td>12.0</td>\n",
       "      <td>CC</td>\n",
       "      <td>Male</td>\n",
       "      <td>NaN</td>\n",
       "      <td>3</td>\n",
       "      <td>Mobile</td>\n",
       "      <td>5</td>\n",
       "      <td>Single</td>\n",
       "      <td>3</td>\n",
       "      <td>0</td>\n",
       "      <td>11.0</td>\n",
       "      <td>1.0</td>\n",
       "      <td>1.0</td>\n",
       "      <td>3.0</td>\n",
       "      <td>130</td>\n",
       "      <td>1</td>\n",
       "    </tr>\n",
       "  </tbody>\n",
       "</table>\n",
       "</div>"
      ],
      "text/plain": [
       "   CustomerID  Tenure PreferredLoginDevice  CityTier  WarehouseToHome  \\\n",
       "0       50001     4.0         Mobile Phone         3              6.0   \n",
       "1       50002     NaN                Phone         1              8.0   \n",
       "2       50003     NaN                Phone         1             30.0   \n",
       "3       50004     0.0                Phone         3             15.0   \n",
       "4       50005     0.0                Phone         1             12.0   \n",
       "\n",
       "  PreferredPaymentMode  Gender  HourSpendOnApp  NumberOfDeviceRegistered  \\\n",
       "0           Debit Card  Female             3.0                         3   \n",
       "1                  UPI    Male             3.0                         4   \n",
       "2           Debit Card    Male             2.0                         4   \n",
       "3           Debit Card    Male             2.0                         4   \n",
       "4                   CC    Male             NaN                         3   \n",
       "\n",
       "     PreferedOrderCat  SatisfactionScore MaritalStatus  NumberOfAddress  \\\n",
       "0  Laptop & Accessory                  2        Single                9   \n",
       "1              Mobile                  3        Single                7   \n",
       "2              Mobile                  3        Single                6   \n",
       "3  Laptop & Accessory                  5        Single                8   \n",
       "4              Mobile                  5        Single                3   \n",
       "\n",
       "   Complain  OrderAmountHikeFromlastYear  CouponUsed  OrderCount  \\\n",
       "0         1                         11.0         1.0         1.0   \n",
       "1         1                         15.0         0.0         1.0   \n",
       "2         1                         14.0         0.0         1.0   \n",
       "3         0                         23.0         0.0         1.0   \n",
       "4         0                         11.0         1.0         1.0   \n",
       "\n",
       "   DaySinceLastOrder  CashbackAmount  Churn  \n",
       "0                5.0             160      1  \n",
       "1                0.0             121      1  \n",
       "2                3.0             120      1  \n",
       "3                3.0             134      1  \n",
       "4                3.0             130      1  "
      ]
     },
     "execution_count": 3,
     "metadata": {},
     "output_type": "execute_result"
    }
   ],
   "source": [
    "df.head()"
   ]
  },
  {
   "attachments": {},
   "cell_type": "markdown",
   "metadata": {},
   "source": [
    "##### Shape of the dataset"
   ]
  },
  {
   "cell_type": "code",
   "execution_count": 4,
   "metadata": {},
   "outputs": [
    {
     "data": {
      "text/plain": [
       "(5630, 20)"
      ]
     },
     "execution_count": 4,
     "metadata": {},
     "output_type": "execute_result"
    }
   ],
   "source": [
    "df.shape"
   ]
  },
  {
   "attachments": {},
   "cell_type": "markdown",
   "metadata": {},
   "source": [
    "#### Dataset Information\n",
    "\n",
    "* CustomerID:- Unique customer ID\n",
    "* Churn:- Churn Flag\n",
    "* Tenure:- Tenure of customer in organization\n",
    "* PreferredLoginDevice:- Preferred login device of customer\n",
    "* CityTier:- City tier\n",
    "* WarehouseToHome:- Distance in between warehouse to home of customer\n",
    "* PreferredPaymentMode:- Preferred payment method of customer\n",
    "* Gender:- Gender of customer\n",
    "* HourSpendOnApp:- Number of hours spend on mobile application or website\n",
    "* NumberOfDeviceRegistered:- Total number of deceives is registered on particular customer\n",
    "* PreferedOrderCat:- Preferred order category of customer in last month\n",
    "* SatisfactionScore:- Satisfactory score of customer on service\n",
    "* MaritalStatus:- Marital status of customer\n",
    "* NumberOfAddress:- Total number of added added on particular customer\n",
    "* Complain:- Any complaint has been raised in last month\n",
    "* OrderAmountHikeFromlastYear:- Percentage increases in order from last year\n",
    "* CouponUsed:- Total number of coupon has been used in last month\n",
    "* OrderCount:- Total number of orders has been places in last month\n",
    "* DaySinceLastOrder:- Day Since last order by customer\n",
    "* CashbackAmount:- Average cashback in last month"
   ]
  },
  {
   "attachments": {},
   "cell_type": "markdown",
   "metadata": {},
   "source": [
    "#### 3. Data Checks to perform\n",
    "* Check Missing values\n",
    "* Check Duplicates\n",
    "* Check data type\n",
    "* Check the number of unique values of each column\n",
    "* Check statistics of data set\n",
    "* Check various categories present in the different categorical column\n"
   ]
  },
  {
   "attachments": {},
   "cell_type": "markdown",
   "metadata": {},
   "source": [
    "#### Check Missing values"
   ]
  },
  {
   "cell_type": "code",
   "execution_count": 5,
   "metadata": {},
   "outputs": [
    {
     "data": {
      "text/plain": [
       "CustomerID                       0\n",
       "Tenure                         264\n",
       "PreferredLoginDevice             0\n",
       "CityTier                         0\n",
       "WarehouseToHome                251\n",
       "PreferredPaymentMode             0\n",
       "Gender                           0\n",
       "HourSpendOnApp                 255\n",
       "NumberOfDeviceRegistered         0\n",
       "PreferedOrderCat                 0\n",
       "SatisfactionScore                0\n",
       "MaritalStatus                    0\n",
       "NumberOfAddress                  0\n",
       "Complain                         0\n",
       "OrderAmountHikeFromlastYear    265\n",
       "CouponUsed                     256\n",
       "OrderCount                     258\n",
       "DaySinceLastOrder              307\n",
       "CashbackAmount                   0\n",
       "Churn                            0\n",
       "dtype: int64"
      ]
     },
     "execution_count": 5,
     "metadata": {},
     "output_type": "execute_result"
    }
   ],
   "source": [
    "df.isnull().sum()"
   ]
  },
  {
   "cell_type": "code",
   "execution_count": 6,
   "metadata": {},
   "outputs": [
    {
     "data": {
      "text/plain": [
       "Tenure                         264\n",
       "WarehouseToHome                251\n",
       "HourSpendOnApp                 255\n",
       "OrderAmountHikeFromlastYear    265\n",
       "CouponUsed                     256\n",
       "OrderCount                     258\n",
       "DaySinceLastOrder              307\n",
       "dtype: int64"
      ]
     },
     "execution_count": 6,
     "metadata": {},
     "output_type": "execute_result"
    }
   ],
   "source": [
    "null = df.isnull().sum()\n",
    "null_values = null[null > 0]\n",
    "null_values"
   ]
  },
  {
   "attachments": {},
   "cell_type": "markdown",
   "metadata": {},
   "source": [
    "* There are some missing values in dataset \n",
    "* To fill with the help of mean of that column"
   ]
  },
  {
   "cell_type": "code",
   "execution_count": 7,
   "metadata": {},
   "outputs": [
    {
     "data": {
      "text/plain": [
       "CustomerID                     0\n",
       "Tenure                         0\n",
       "PreferredLoginDevice           0\n",
       "CityTier                       0\n",
       "WarehouseToHome                0\n",
       "PreferredPaymentMode           0\n",
       "Gender                         0\n",
       "HourSpendOnApp                 0\n",
       "NumberOfDeviceRegistered       0\n",
       "PreferedOrderCat               0\n",
       "SatisfactionScore              0\n",
       "MaritalStatus                  0\n",
       "NumberOfAddress                0\n",
       "Complain                       0\n",
       "OrderAmountHikeFromlastYear    0\n",
       "CouponUsed                     0\n",
       "OrderCount                     0\n",
       "DaySinceLastOrder              0\n",
       "CashbackAmount                 0\n",
       "Churn                          0\n",
       "dtype: int64"
      ]
     },
     "execution_count": 7,
     "metadata": {},
     "output_type": "execute_result"
    }
   ],
   "source": [
    "df = df.fillna(df.mean())\n",
    "df.isnull().sum()"
   ]
  },
  {
   "attachments": {},
   "cell_type": "markdown",
   "metadata": {},
   "source": [
    "* There is no null values in the dataset \n",
    "* If in case of any null values present in the categorical features to use the **Most frequent values or use Mode** of that columns"
   ]
  },
  {
   "attachments": {},
   "cell_type": "markdown",
   "metadata": {},
   "source": [
    "#### Check Duplicate values"
   ]
  },
  {
   "cell_type": "code",
   "execution_count": 8,
   "metadata": {},
   "outputs": [
    {
     "data": {
      "text/plain": [
       "0"
      ]
     },
     "execution_count": 8,
     "metadata": {},
     "output_type": "execute_result"
    }
   ],
   "source": [
    "df.duplicated().sum()"
   ]
  },
  {
   "attachments": {},
   "cell_type": "markdown",
   "metadata": {},
   "source": [
    "There are no duplicated values in the dataset"
   ]
  },
  {
   "attachments": {},
   "cell_type": "markdown",
   "metadata": {},
   "source": [
    "#### Check the data types"
   ]
  },
  {
   "cell_type": "code",
   "execution_count": 9,
   "metadata": {},
   "outputs": [
    {
     "name": "stdout",
     "output_type": "stream",
     "text": [
      "<class 'pandas.core.frame.DataFrame'>\n",
      "RangeIndex: 5630 entries, 0 to 5629\n",
      "Data columns (total 20 columns):\n",
      " #   Column                       Non-Null Count  Dtype  \n",
      "---  ------                       --------------  -----  \n",
      " 0   CustomerID                   5630 non-null   int64  \n",
      " 1   Tenure                       5630 non-null   float64\n",
      " 2   PreferredLoginDevice         5630 non-null   object \n",
      " 3   CityTier                     5630 non-null   int64  \n",
      " 4   WarehouseToHome              5630 non-null   float64\n",
      " 5   PreferredPaymentMode         5630 non-null   object \n",
      " 6   Gender                       5630 non-null   object \n",
      " 7   HourSpendOnApp               5630 non-null   float64\n",
      " 8   NumberOfDeviceRegistered     5630 non-null   int64  \n",
      " 9   PreferedOrderCat             5630 non-null   object \n",
      " 10  SatisfactionScore            5630 non-null   int64  \n",
      " 11  MaritalStatus                5630 non-null   object \n",
      " 12  NumberOfAddress              5630 non-null   int64  \n",
      " 13  Complain                     5630 non-null   int64  \n",
      " 14  OrderAmountHikeFromlastYear  5630 non-null   float64\n",
      " 15  CouponUsed                   5630 non-null   float64\n",
      " 16  OrderCount                   5630 non-null   float64\n",
      " 17  DaySinceLastOrder            5630 non-null   float64\n",
      " 18  CashbackAmount               5630 non-null   int64  \n",
      " 19  Churn                        5630 non-null   int64  \n",
      "dtypes: float64(7), int64(8), object(5)\n",
      "memory usage: 879.8+ KB\n"
     ]
    }
   ],
   "source": [
    "#check the null and Dtypes\n",
    "df.info()"
   ]
  },
  {
   "attachments": {},
   "cell_type": "markdown",
   "metadata": {},
   "source": [
    "####  Check the number of unique values of each column\n"
   ]
  },
  {
   "cell_type": "code",
   "execution_count": 10,
   "metadata": {},
   "outputs": [
    {
     "data": {
      "text/plain": [
       "CustomerID                     5630\n",
       "Tenure                           37\n",
       "PreferredLoginDevice              3\n",
       "CityTier                          3\n",
       "WarehouseToHome                  35\n",
       "PreferredPaymentMode              7\n",
       "Gender                            2\n",
       "HourSpendOnApp                    7\n",
       "NumberOfDeviceRegistered          6\n",
       "PreferedOrderCat                  6\n",
       "SatisfactionScore                 5\n",
       "MaritalStatus                     3\n",
       "NumberOfAddress                  15\n",
       "Complain                          2\n",
       "OrderAmountHikeFromlastYear      17\n",
       "CouponUsed                       18\n",
       "OrderCount                       17\n",
       "DaySinceLastOrder                23\n",
       "CashbackAmount                  220\n",
       "Churn                             2\n",
       "dtype: int64"
      ]
     },
     "execution_count": 10,
     "metadata": {},
     "output_type": "execute_result"
    }
   ],
   "source": [
    "df.nunique()"
   ]
  },
  {
   "attachments": {},
   "cell_type": "markdown",
   "metadata": {},
   "source": [
    "#####  Check statistics of data set"
   ]
  },
  {
   "cell_type": "code",
   "execution_count": 11,
   "metadata": {},
   "outputs": [
    {
     "data": {
      "text/html": [
       "<div>\n",
       "<style scoped>\n",
       "    .dataframe tbody tr th:only-of-type {\n",
       "        vertical-align: middle;\n",
       "    }\n",
       "\n",
       "    .dataframe tbody tr th {\n",
       "        vertical-align: top;\n",
       "    }\n",
       "\n",
       "    .dataframe thead th {\n",
       "        text-align: right;\n",
       "    }\n",
       "</style>\n",
       "<table border=\"1\" class=\"dataframe\">\n",
       "  <thead>\n",
       "    <tr style=\"text-align: right;\">\n",
       "      <th></th>\n",
       "      <th>CustomerID</th>\n",
       "      <th>Tenure</th>\n",
       "      <th>CityTier</th>\n",
       "      <th>WarehouseToHome</th>\n",
       "      <th>HourSpendOnApp</th>\n",
       "      <th>NumberOfDeviceRegistered</th>\n",
       "      <th>SatisfactionScore</th>\n",
       "      <th>NumberOfAddress</th>\n",
       "      <th>Complain</th>\n",
       "      <th>OrderAmountHikeFromlastYear</th>\n",
       "      <th>CouponUsed</th>\n",
       "      <th>OrderCount</th>\n",
       "      <th>DaySinceLastOrder</th>\n",
       "      <th>CashbackAmount</th>\n",
       "      <th>Churn</th>\n",
       "    </tr>\n",
       "  </thead>\n",
       "  <tbody>\n",
       "    <tr>\n",
       "      <th>count</th>\n",
       "      <td>5630.000000</td>\n",
       "      <td>5630.000000</td>\n",
       "      <td>5630.000000</td>\n",
       "      <td>5630.000000</td>\n",
       "      <td>5630.000000</td>\n",
       "      <td>5630.000000</td>\n",
       "      <td>5630.000000</td>\n",
       "      <td>5630.000000</td>\n",
       "      <td>5630.000000</td>\n",
       "      <td>5630.000000</td>\n",
       "      <td>5630.000000</td>\n",
       "      <td>5630.000000</td>\n",
       "      <td>5630.000000</td>\n",
       "      <td>5630.000000</td>\n",
       "      <td>5630.000000</td>\n",
       "    </tr>\n",
       "    <tr>\n",
       "      <th>mean</th>\n",
       "      <td>52815.500000</td>\n",
       "      <td>10.189899</td>\n",
       "      <td>1.654707</td>\n",
       "      <td>15.639896</td>\n",
       "      <td>2.931535</td>\n",
       "      <td>3.688988</td>\n",
       "      <td>3.066785</td>\n",
       "      <td>4.214032</td>\n",
       "      <td>0.284902</td>\n",
       "      <td>15.707922</td>\n",
       "      <td>1.751023</td>\n",
       "      <td>3.008004</td>\n",
       "      <td>4.543491</td>\n",
       "      <td>177.221492</td>\n",
       "      <td>0.168384</td>\n",
       "    </tr>\n",
       "    <tr>\n",
       "      <th>std</th>\n",
       "      <td>1625.385339</td>\n",
       "      <td>8.354164</td>\n",
       "      <td>0.915389</td>\n",
       "      <td>8.339095</td>\n",
       "      <td>0.705384</td>\n",
       "      <td>1.023999</td>\n",
       "      <td>1.380194</td>\n",
       "      <td>2.583586</td>\n",
       "      <td>0.451408</td>\n",
       "      <td>3.587926</td>\n",
       "      <td>1.851038</td>\n",
       "      <td>2.871521</td>\n",
       "      <td>3.553382</td>\n",
       "      <td>49.193869</td>\n",
       "      <td>0.374240</td>\n",
       "    </tr>\n",
       "    <tr>\n",
       "      <th>min</th>\n",
       "      <td>50001.000000</td>\n",
       "      <td>0.000000</td>\n",
       "      <td>1.000000</td>\n",
       "      <td>5.000000</td>\n",
       "      <td>0.000000</td>\n",
       "      <td>1.000000</td>\n",
       "      <td>1.000000</td>\n",
       "      <td>1.000000</td>\n",
       "      <td>0.000000</td>\n",
       "      <td>11.000000</td>\n",
       "      <td>0.000000</td>\n",
       "      <td>1.000000</td>\n",
       "      <td>0.000000</td>\n",
       "      <td>0.000000</td>\n",
       "      <td>0.000000</td>\n",
       "    </tr>\n",
       "    <tr>\n",
       "      <th>25%</th>\n",
       "      <td>51408.250000</td>\n",
       "      <td>3.000000</td>\n",
       "      <td>1.000000</td>\n",
       "      <td>9.000000</td>\n",
       "      <td>2.000000</td>\n",
       "      <td>3.000000</td>\n",
       "      <td>2.000000</td>\n",
       "      <td>2.000000</td>\n",
       "      <td>0.000000</td>\n",
       "      <td>13.000000</td>\n",
       "      <td>1.000000</td>\n",
       "      <td>1.000000</td>\n",
       "      <td>2.000000</td>\n",
       "      <td>146.000000</td>\n",
       "      <td>0.000000</td>\n",
       "    </tr>\n",
       "    <tr>\n",
       "      <th>50%</th>\n",
       "      <td>52815.500000</td>\n",
       "      <td>9.000000</td>\n",
       "      <td>1.000000</td>\n",
       "      <td>14.000000</td>\n",
       "      <td>3.000000</td>\n",
       "      <td>4.000000</td>\n",
       "      <td>3.000000</td>\n",
       "      <td>3.000000</td>\n",
       "      <td>0.000000</td>\n",
       "      <td>15.000000</td>\n",
       "      <td>1.000000</td>\n",
       "      <td>2.000000</td>\n",
       "      <td>4.000000</td>\n",
       "      <td>163.000000</td>\n",
       "      <td>0.000000</td>\n",
       "    </tr>\n",
       "    <tr>\n",
       "      <th>75%</th>\n",
       "      <td>54222.750000</td>\n",
       "      <td>15.000000</td>\n",
       "      <td>3.000000</td>\n",
       "      <td>20.000000</td>\n",
       "      <td>3.000000</td>\n",
       "      <td>4.000000</td>\n",
       "      <td>4.000000</td>\n",
       "      <td>6.000000</td>\n",
       "      <td>1.000000</td>\n",
       "      <td>18.000000</td>\n",
       "      <td>2.000000</td>\n",
       "      <td>3.008004</td>\n",
       "      <td>7.000000</td>\n",
       "      <td>196.000000</td>\n",
       "      <td>0.000000</td>\n",
       "    </tr>\n",
       "    <tr>\n",
       "      <th>max</th>\n",
       "      <td>55630.000000</td>\n",
       "      <td>61.000000</td>\n",
       "      <td>3.000000</td>\n",
       "      <td>127.000000</td>\n",
       "      <td>5.000000</td>\n",
       "      <td>6.000000</td>\n",
       "      <td>5.000000</td>\n",
       "      <td>22.000000</td>\n",
       "      <td>1.000000</td>\n",
       "      <td>26.000000</td>\n",
       "      <td>16.000000</td>\n",
       "      <td>16.000000</td>\n",
       "      <td>46.000000</td>\n",
       "      <td>325.000000</td>\n",
       "      <td>1.000000</td>\n",
       "    </tr>\n",
       "  </tbody>\n",
       "</table>\n",
       "</div>"
      ],
      "text/plain": [
       "         CustomerID       Tenure     CityTier  WarehouseToHome  \\\n",
       "count   5630.000000  5630.000000  5630.000000      5630.000000   \n",
       "mean   52815.500000    10.189899     1.654707        15.639896   \n",
       "std     1625.385339     8.354164     0.915389         8.339095   \n",
       "min    50001.000000     0.000000     1.000000         5.000000   \n",
       "25%    51408.250000     3.000000     1.000000         9.000000   \n",
       "50%    52815.500000     9.000000     1.000000        14.000000   \n",
       "75%    54222.750000    15.000000     3.000000        20.000000   \n",
       "max    55630.000000    61.000000     3.000000       127.000000   \n",
       "\n",
       "       HourSpendOnApp  NumberOfDeviceRegistered  SatisfactionScore  \\\n",
       "count     5630.000000               5630.000000        5630.000000   \n",
       "mean         2.931535                  3.688988           3.066785   \n",
       "std          0.705384                  1.023999           1.380194   \n",
       "min          0.000000                  1.000000           1.000000   \n",
       "25%          2.000000                  3.000000           2.000000   \n",
       "50%          3.000000                  4.000000           3.000000   \n",
       "75%          3.000000                  4.000000           4.000000   \n",
       "max          5.000000                  6.000000           5.000000   \n",
       "\n",
       "       NumberOfAddress     Complain  OrderAmountHikeFromlastYear   CouponUsed  \\\n",
       "count      5630.000000  5630.000000                  5630.000000  5630.000000   \n",
       "mean          4.214032     0.284902                    15.707922     1.751023   \n",
       "std           2.583586     0.451408                     3.587926     1.851038   \n",
       "min           1.000000     0.000000                    11.000000     0.000000   \n",
       "25%           2.000000     0.000000                    13.000000     1.000000   \n",
       "50%           3.000000     0.000000                    15.000000     1.000000   \n",
       "75%           6.000000     1.000000                    18.000000     2.000000   \n",
       "max          22.000000     1.000000                    26.000000    16.000000   \n",
       "\n",
       "        OrderCount  DaySinceLastOrder  CashbackAmount        Churn  \n",
       "count  5630.000000        5630.000000     5630.000000  5630.000000  \n",
       "mean      3.008004           4.543491      177.221492     0.168384  \n",
       "std       2.871521           3.553382       49.193869     0.374240  \n",
       "min       1.000000           0.000000        0.000000     0.000000  \n",
       "25%       1.000000           2.000000      146.000000     0.000000  \n",
       "50%       2.000000           4.000000      163.000000     0.000000  \n",
       "75%       3.008004           7.000000      196.000000     0.000000  \n",
       "max      16.000000          46.000000      325.000000     1.000000  "
      ]
     },
     "execution_count": 11,
     "metadata": {},
     "output_type": "execute_result"
    }
   ],
   "source": [
    "df.describe()"
   ]
  },
  {
   "attachments": {},
   "cell_type": "markdown",
   "metadata": {},
   "source": [
    "#### Insights"
   ]
  },
  {
   "attachments": {},
   "cell_type": "markdown",
   "metadata": {},
   "source": [
    "* From above description of numerical data, all means are very close to each other - between 3 and 177.67\n",
    "* All standard deviations are also close - between 0.4 to 49.89\n",
    "* And there are some outliers also."
   ]
  },
  {
   "attachments": {},
   "cell_type": "markdown",
   "metadata": {},
   "source": [
    "####  Exploring Data"
   ]
  },
  {
   "cell_type": "code",
   "execution_count": 12,
   "metadata": {},
   "outputs": [
    {
     "data": {
      "text/html": [
       "<div>\n",
       "<style scoped>\n",
       "    .dataframe tbody tr th:only-of-type {\n",
       "        vertical-align: middle;\n",
       "    }\n",
       "\n",
       "    .dataframe tbody tr th {\n",
       "        vertical-align: top;\n",
       "    }\n",
       "\n",
       "    .dataframe thead th {\n",
       "        text-align: right;\n",
       "    }\n",
       "</style>\n",
       "<table border=\"1\" class=\"dataframe\">\n",
       "  <thead>\n",
       "    <tr style=\"text-align: right;\">\n",
       "      <th></th>\n",
       "      <th>CustomerID</th>\n",
       "      <th>Tenure</th>\n",
       "      <th>PreferredLoginDevice</th>\n",
       "      <th>CityTier</th>\n",
       "      <th>WarehouseToHome</th>\n",
       "      <th>PreferredPaymentMode</th>\n",
       "      <th>Gender</th>\n",
       "      <th>HourSpendOnApp</th>\n",
       "      <th>NumberOfDeviceRegistered</th>\n",
       "      <th>PreferedOrderCat</th>\n",
       "      <th>SatisfactionScore</th>\n",
       "      <th>MaritalStatus</th>\n",
       "      <th>NumberOfAddress</th>\n",
       "      <th>Complain</th>\n",
       "      <th>OrderAmountHikeFromlastYear</th>\n",
       "      <th>CouponUsed</th>\n",
       "      <th>OrderCount</th>\n",
       "      <th>DaySinceLastOrder</th>\n",
       "      <th>CashbackAmount</th>\n",
       "      <th>Churn</th>\n",
       "    </tr>\n",
       "  </thead>\n",
       "  <tbody>\n",
       "    <tr>\n",
       "      <th>0</th>\n",
       "      <td>50001</td>\n",
       "      <td>4.000000</td>\n",
       "      <td>Mobile Phone</td>\n",
       "      <td>3</td>\n",
       "      <td>6.0</td>\n",
       "      <td>Debit Card</td>\n",
       "      <td>Female</td>\n",
       "      <td>3.000000</td>\n",
       "      <td>3</td>\n",
       "      <td>Laptop &amp; Accessory</td>\n",
       "      <td>2</td>\n",
       "      <td>Single</td>\n",
       "      <td>9</td>\n",
       "      <td>1</td>\n",
       "      <td>11.0</td>\n",
       "      <td>1.0</td>\n",
       "      <td>1.0</td>\n",
       "      <td>5.0</td>\n",
       "      <td>160</td>\n",
       "      <td>1</td>\n",
       "    </tr>\n",
       "    <tr>\n",
       "      <th>1</th>\n",
       "      <td>50002</td>\n",
       "      <td>10.189899</td>\n",
       "      <td>Phone</td>\n",
       "      <td>1</td>\n",
       "      <td>8.0</td>\n",
       "      <td>UPI</td>\n",
       "      <td>Male</td>\n",
       "      <td>3.000000</td>\n",
       "      <td>4</td>\n",
       "      <td>Mobile</td>\n",
       "      <td>3</td>\n",
       "      <td>Single</td>\n",
       "      <td>7</td>\n",
       "      <td>1</td>\n",
       "      <td>15.0</td>\n",
       "      <td>0.0</td>\n",
       "      <td>1.0</td>\n",
       "      <td>0.0</td>\n",
       "      <td>121</td>\n",
       "      <td>1</td>\n",
       "    </tr>\n",
       "    <tr>\n",
       "      <th>2</th>\n",
       "      <td>50003</td>\n",
       "      <td>10.189899</td>\n",
       "      <td>Phone</td>\n",
       "      <td>1</td>\n",
       "      <td>30.0</td>\n",
       "      <td>Debit Card</td>\n",
       "      <td>Male</td>\n",
       "      <td>2.000000</td>\n",
       "      <td>4</td>\n",
       "      <td>Mobile</td>\n",
       "      <td>3</td>\n",
       "      <td>Single</td>\n",
       "      <td>6</td>\n",
       "      <td>1</td>\n",
       "      <td>14.0</td>\n",
       "      <td>0.0</td>\n",
       "      <td>1.0</td>\n",
       "      <td>3.0</td>\n",
       "      <td>120</td>\n",
       "      <td>1</td>\n",
       "    </tr>\n",
       "    <tr>\n",
       "      <th>3</th>\n",
       "      <td>50004</td>\n",
       "      <td>0.000000</td>\n",
       "      <td>Phone</td>\n",
       "      <td>3</td>\n",
       "      <td>15.0</td>\n",
       "      <td>Debit Card</td>\n",
       "      <td>Male</td>\n",
       "      <td>2.000000</td>\n",
       "      <td>4</td>\n",
       "      <td>Laptop &amp; Accessory</td>\n",
       "      <td>5</td>\n",
       "      <td>Single</td>\n",
       "      <td>8</td>\n",
       "      <td>0</td>\n",
       "      <td>23.0</td>\n",
       "      <td>0.0</td>\n",
       "      <td>1.0</td>\n",
       "      <td>3.0</td>\n",
       "      <td>134</td>\n",
       "      <td>1</td>\n",
       "    </tr>\n",
       "    <tr>\n",
       "      <th>4</th>\n",
       "      <td>50005</td>\n",
       "      <td>0.000000</td>\n",
       "      <td>Phone</td>\n",
       "      <td>1</td>\n",
       "      <td>12.0</td>\n",
       "      <td>CC</td>\n",
       "      <td>Male</td>\n",
       "      <td>2.931535</td>\n",
       "      <td>3</td>\n",
       "      <td>Mobile</td>\n",
       "      <td>5</td>\n",
       "      <td>Single</td>\n",
       "      <td>3</td>\n",
       "      <td>0</td>\n",
       "      <td>11.0</td>\n",
       "      <td>1.0</td>\n",
       "      <td>1.0</td>\n",
       "      <td>3.0</td>\n",
       "      <td>130</td>\n",
       "      <td>1</td>\n",
       "    </tr>\n",
       "  </tbody>\n",
       "</table>\n",
       "</div>"
      ],
      "text/plain": [
       "   CustomerID     Tenure PreferredLoginDevice  CityTier  WarehouseToHome  \\\n",
       "0       50001   4.000000         Mobile Phone         3              6.0   \n",
       "1       50002  10.189899                Phone         1              8.0   \n",
       "2       50003  10.189899                Phone         1             30.0   \n",
       "3       50004   0.000000                Phone         3             15.0   \n",
       "4       50005   0.000000                Phone         1             12.0   \n",
       "\n",
       "  PreferredPaymentMode  Gender  HourSpendOnApp  NumberOfDeviceRegistered  \\\n",
       "0           Debit Card  Female        3.000000                         3   \n",
       "1                  UPI    Male        3.000000                         4   \n",
       "2           Debit Card    Male        2.000000                         4   \n",
       "3           Debit Card    Male        2.000000                         4   \n",
       "4                   CC    Male        2.931535                         3   \n",
       "\n",
       "     PreferedOrderCat  SatisfactionScore MaritalStatus  NumberOfAddress  \\\n",
       "0  Laptop & Accessory                  2        Single                9   \n",
       "1              Mobile                  3        Single                7   \n",
       "2              Mobile                  3        Single                6   \n",
       "3  Laptop & Accessory                  5        Single                8   \n",
       "4              Mobile                  5        Single                3   \n",
       "\n",
       "   Complain  OrderAmountHikeFromlastYear  CouponUsed  OrderCount  \\\n",
       "0         1                         11.0         1.0         1.0   \n",
       "1         1                         15.0         0.0         1.0   \n",
       "2         1                         14.0         0.0         1.0   \n",
       "3         0                         23.0         0.0         1.0   \n",
       "4         0                         11.0         1.0         1.0   \n",
       "\n",
       "   DaySinceLastOrder  CashbackAmount  Churn  \n",
       "0                5.0             160      1  \n",
       "1                0.0             121      1  \n",
       "2                3.0             120      1  \n",
       "3                3.0             134      1  \n",
       "4                3.0             130      1  "
      ]
     },
     "execution_count": 12,
     "metadata": {},
     "output_type": "execute_result"
    }
   ],
   "source": [
    "df.head()"
   ]
  },
  {
   "attachments": {},
   "cell_type": "markdown",
   "metadata": {},
   "source": [
    "we don't need the custmer Id columns so removing."
   ]
  },
  {
   "cell_type": "code",
   "execution_count": 13,
   "metadata": {},
   "outputs": [],
   "source": [
    "df.drop(columns='CustomerID',axis=1,inplace=True)"
   ]
  },
  {
   "cell_type": "code",
   "execution_count": 14,
   "metadata": {},
   "outputs": [
    {
     "data": {
      "text/html": [
       "<div>\n",
       "<style scoped>\n",
       "    .dataframe tbody tr th:only-of-type {\n",
       "        vertical-align: middle;\n",
       "    }\n",
       "\n",
       "    .dataframe tbody tr th {\n",
       "        vertical-align: top;\n",
       "    }\n",
       "\n",
       "    .dataframe thead th {\n",
       "        text-align: right;\n",
       "    }\n",
       "</style>\n",
       "<table border=\"1\" class=\"dataframe\">\n",
       "  <thead>\n",
       "    <tr style=\"text-align: right;\">\n",
       "      <th></th>\n",
       "      <th>Tenure</th>\n",
       "      <th>PreferredLoginDevice</th>\n",
       "      <th>CityTier</th>\n",
       "      <th>WarehouseToHome</th>\n",
       "      <th>PreferredPaymentMode</th>\n",
       "      <th>Gender</th>\n",
       "      <th>HourSpendOnApp</th>\n",
       "      <th>NumberOfDeviceRegistered</th>\n",
       "      <th>PreferedOrderCat</th>\n",
       "      <th>SatisfactionScore</th>\n",
       "      <th>MaritalStatus</th>\n",
       "      <th>NumberOfAddress</th>\n",
       "      <th>Complain</th>\n",
       "      <th>OrderAmountHikeFromlastYear</th>\n",
       "      <th>CouponUsed</th>\n",
       "      <th>OrderCount</th>\n",
       "      <th>DaySinceLastOrder</th>\n",
       "      <th>CashbackAmount</th>\n",
       "      <th>Churn</th>\n",
       "    </tr>\n",
       "  </thead>\n",
       "  <tbody>\n",
       "    <tr>\n",
       "      <th>0</th>\n",
       "      <td>4.000000</td>\n",
       "      <td>Mobile Phone</td>\n",
       "      <td>3</td>\n",
       "      <td>6.0</td>\n",
       "      <td>Debit Card</td>\n",
       "      <td>Female</td>\n",
       "      <td>3.000000</td>\n",
       "      <td>3</td>\n",
       "      <td>Laptop &amp; Accessory</td>\n",
       "      <td>2</td>\n",
       "      <td>Single</td>\n",
       "      <td>9</td>\n",
       "      <td>1</td>\n",
       "      <td>11.0</td>\n",
       "      <td>1.0</td>\n",
       "      <td>1.0</td>\n",
       "      <td>5.0</td>\n",
       "      <td>160</td>\n",
       "      <td>1</td>\n",
       "    </tr>\n",
       "    <tr>\n",
       "      <th>1</th>\n",
       "      <td>10.189899</td>\n",
       "      <td>Phone</td>\n",
       "      <td>1</td>\n",
       "      <td>8.0</td>\n",
       "      <td>UPI</td>\n",
       "      <td>Male</td>\n",
       "      <td>3.000000</td>\n",
       "      <td>4</td>\n",
       "      <td>Mobile</td>\n",
       "      <td>3</td>\n",
       "      <td>Single</td>\n",
       "      <td>7</td>\n",
       "      <td>1</td>\n",
       "      <td>15.0</td>\n",
       "      <td>0.0</td>\n",
       "      <td>1.0</td>\n",
       "      <td>0.0</td>\n",
       "      <td>121</td>\n",
       "      <td>1</td>\n",
       "    </tr>\n",
       "    <tr>\n",
       "      <th>2</th>\n",
       "      <td>10.189899</td>\n",
       "      <td>Phone</td>\n",
       "      <td>1</td>\n",
       "      <td>30.0</td>\n",
       "      <td>Debit Card</td>\n",
       "      <td>Male</td>\n",
       "      <td>2.000000</td>\n",
       "      <td>4</td>\n",
       "      <td>Mobile</td>\n",
       "      <td>3</td>\n",
       "      <td>Single</td>\n",
       "      <td>6</td>\n",
       "      <td>1</td>\n",
       "      <td>14.0</td>\n",
       "      <td>0.0</td>\n",
       "      <td>1.0</td>\n",
       "      <td>3.0</td>\n",
       "      <td>120</td>\n",
       "      <td>1</td>\n",
       "    </tr>\n",
       "    <tr>\n",
       "      <th>3</th>\n",
       "      <td>0.000000</td>\n",
       "      <td>Phone</td>\n",
       "      <td>3</td>\n",
       "      <td>15.0</td>\n",
       "      <td>Debit Card</td>\n",
       "      <td>Male</td>\n",
       "      <td>2.000000</td>\n",
       "      <td>4</td>\n",
       "      <td>Laptop &amp; Accessory</td>\n",
       "      <td>5</td>\n",
       "      <td>Single</td>\n",
       "      <td>8</td>\n",
       "      <td>0</td>\n",
       "      <td>23.0</td>\n",
       "      <td>0.0</td>\n",
       "      <td>1.0</td>\n",
       "      <td>3.0</td>\n",
       "      <td>134</td>\n",
       "      <td>1</td>\n",
       "    </tr>\n",
       "    <tr>\n",
       "      <th>4</th>\n",
       "      <td>0.000000</td>\n",
       "      <td>Phone</td>\n",
       "      <td>1</td>\n",
       "      <td>12.0</td>\n",
       "      <td>CC</td>\n",
       "      <td>Male</td>\n",
       "      <td>2.931535</td>\n",
       "      <td>3</td>\n",
       "      <td>Mobile</td>\n",
       "      <td>5</td>\n",
       "      <td>Single</td>\n",
       "      <td>3</td>\n",
       "      <td>0</td>\n",
       "      <td>11.0</td>\n",
       "      <td>1.0</td>\n",
       "      <td>1.0</td>\n",
       "      <td>3.0</td>\n",
       "      <td>130</td>\n",
       "      <td>1</td>\n",
       "    </tr>\n",
       "  </tbody>\n",
       "</table>\n",
       "</div>"
      ],
      "text/plain": [
       "      Tenure PreferredLoginDevice  CityTier  WarehouseToHome  \\\n",
       "0   4.000000         Mobile Phone         3              6.0   \n",
       "1  10.189899                Phone         1              8.0   \n",
       "2  10.189899                Phone         1             30.0   \n",
       "3   0.000000                Phone         3             15.0   \n",
       "4   0.000000                Phone         1             12.0   \n",
       "\n",
       "  PreferredPaymentMode  Gender  HourSpendOnApp  NumberOfDeviceRegistered  \\\n",
       "0           Debit Card  Female        3.000000                         3   \n",
       "1                  UPI    Male        3.000000                         4   \n",
       "2           Debit Card    Male        2.000000                         4   \n",
       "3           Debit Card    Male        2.000000                         4   \n",
       "4                   CC    Male        2.931535                         3   \n",
       "\n",
       "     PreferedOrderCat  SatisfactionScore MaritalStatus  NumberOfAddress  \\\n",
       "0  Laptop & Accessory                  2        Single                9   \n",
       "1              Mobile                  3        Single                7   \n",
       "2              Mobile                  3        Single                6   \n",
       "3  Laptop & Accessory                  5        Single                8   \n",
       "4              Mobile                  5        Single                3   \n",
       "\n",
       "   Complain  OrderAmountHikeFromlastYear  CouponUsed  OrderCount  \\\n",
       "0         1                         11.0         1.0         1.0   \n",
       "1         1                         15.0         0.0         1.0   \n",
       "2         1                         14.0         0.0         1.0   \n",
       "3         0                         23.0         0.0         1.0   \n",
       "4         0                         11.0         1.0         1.0   \n",
       "\n",
       "   DaySinceLastOrder  CashbackAmount  Churn  \n",
       "0                5.0             160      1  \n",
       "1                0.0             121      1  \n",
       "2                3.0             120      1  \n",
       "3                3.0             134      1  \n",
       "4                3.0             130      1  "
      ]
     },
     "execution_count": 14,
     "metadata": {},
     "output_type": "execute_result"
    }
   ],
   "source": [
    "df.head()"
   ]
  },
  {
   "cell_type": "code",
   "execution_count": 15,
   "metadata": {},
   "outputs": [],
   "source": [
    "numeric_columns = df.select_dtypes(exclude=\"object\")"
   ]
  },
  {
   "cell_type": "code",
   "execution_count": 16,
   "metadata": {},
   "outputs": [],
   "source": [
    "categorical_column = df.select_dtypes(include=\"object\")"
   ]
  },
  {
   "cell_type": "code",
   "execution_count": 17,
   "metadata": {},
   "outputs": [
    {
     "name": "stdout",
     "output_type": "stream",
     "text": [
      "Categories in 'PreferredLoginDevice' variable:   ['Mobile Phone' 'Phone' 'Computer']\n",
      "Categories in 'PreferredPaymentMode' variable:   ['Debit Card' 'UPI' 'CC' 'Cash on Delivery' 'E wallet' 'COD' 'Credit Card']\n",
      "Categories in 'Gender' variable:   ['Female' 'Male']\n",
      "Categories in 'PreferedOrderCat' variable:   ['Laptop & Accessory' 'Mobile' 'Mobile Phone' 'Others' 'Fashion' 'Grocery']\n",
      "Categories in 'MaritalStatus' variable:   ['Single' 'Divorced' 'Married']\n"
     ]
    }
   ],
   "source": [
    "print(\"Categories in 'PreferredLoginDevice' variable:  \",end=\" \")\n",
    "print(df[\"PreferredLoginDevice\"].unique())\n",
    "\n",
    "print(\"Categories in 'PreferredPaymentMode' variable:  \",end=\" \")\n",
    "print(df[\"PreferredPaymentMode\"].unique())\n",
    "\n",
    "print(\"Categories in 'Gender' variable:  \",end=\" \")\n",
    "print(df[\"Gender\"].unique())\n",
    "\n",
    "print(\"Categories in 'PreferedOrderCat' variable:  \",end=\" \")\n",
    "print(df[\"PreferedOrderCat\"].unique())\n",
    "\n",
    "print(\"Categories in 'MaritalStatus' variable:  \",end=\" \")\n",
    "print(df[\"MaritalStatus\"].unique())"
   ]
  },
  {
   "cell_type": "code",
   "execution_count": 18,
   "metadata": {},
   "outputs": [
    {
     "name": "stdout",
     "output_type": "stream",
     "text": [
      "We have 14 numerical features: ['Tenure', 'CityTier', 'WarehouseToHome', 'HourSpendOnApp', 'NumberOfDeviceRegistered', 'SatisfactionScore', 'NumberOfAddress', 'Complain', 'OrderAmountHikeFromlastYear', 'CouponUsed', 'OrderCount', 'DaySinceLastOrder', 'CashbackAmount', 'Churn']\n",
      "We have 5 categorical features: ['PreferredLoginDevice', 'PreferredPaymentMode', 'Gender', 'PreferedOrderCat', 'MaritalStatus']\n"
     ]
    }
   ],
   "source": [
    "#define numerical and categorical columns\n",
    "numeric_features = [feature for feature in df.columns if df[feature].dtype != \"object\"] \n",
    "categorical_features = [feature for feature in df.columns if df[feature].dtype == \"object\"] \n",
    "\n",
    "print(\"We have {} numerical features: {}\".format(len(numeric_features),numeric_features))\n",
    "print(\"We have {} categorical features: {}\".format(len(categorical_features),categorical_features))"
   ]
  },
  {
   "cell_type": "code",
   "execution_count": 19,
   "metadata": {},
   "outputs": [
    {
     "data": {
      "text/plain": [
       "0    4682\n",
       "1     948\n",
       "Name: Churn, dtype: int64"
      ]
     },
     "execution_count": 19,
     "metadata": {},
     "output_type": "execute_result"
    }
   ],
   "source": [
    "df['Churn'].value_counts()"
   ]
  },
  {
   "cell_type": "code",
   "execution_count": 20,
   "metadata": {},
   "outputs": [
    {
     "data": {
      "text/plain": [
       "0    83.161634\n",
       "1    16.838366\n",
       "Name: Churn, dtype: float64"
      ]
     },
     "execution_count": 20,
     "metadata": {},
     "output_type": "execute_result"
    }
   ],
   "source": [
    "percentage = df['Churn'].value_counts(normalize=True)*100\n",
    "percentage"
   ]
  },
  {
   "attachments": {},
   "cell_type": "markdown",
   "metadata": {},
   "source": [
    "* From the above Dependent feature is imbalace data are present\n",
    "* This will give some effect in the accuracy and F1 score"
   ]
  },
  {
   "cell_type": "code",
   "execution_count": 21,
   "metadata": {},
   "outputs": [
    {
     "data": {
      "text/plain": [
       "<Axes: xlabel='Churn', ylabel='count'>"
      ]
     },
     "execution_count": 21,
     "metadata": {},
     "output_type": "execute_result"
    },
    {
     "data": {
      "image/png": "[encoded data removed]",
      "text/plain": [
       "<Figure size 640x480 with 1 Axes>"
      ]
     },
     "metadata": {},
     "output_type": "display_data"
    }
   ],
   "source": [
    "sns.countplot(data=df,x=df['Churn'])"
   ]
  },
  {
   "attachments": {},
   "cell_type": "markdown",
   "metadata": {},
   "source": [
    "##### Data Visualization\n",
    "* Histogram"
   ]
  },
  {
   "cell_type": "code",
   "execution_count": 22,
   "metadata": {},
   "outputs": [
    {
     "data": {
      "image/png": "[encoded data removed]",
      "text/plain": [
       "<Figure size 800x500 with 1 Axes>"
      ]
     },
     "metadata": {},
     "output_type": "display_data"
    }
   ],
   "source": [
    "plt.figure(figsize=(8,5))\n",
    "sns.distplot(df['Tenure'])\n",
    "plt.show()"
   ]
  },
  {
   "attachments": {},
   "cell_type": "markdown",
   "metadata": {},
   "source": [
    "* The above Tenure feature is distributed to **positively skewed** so we perform the data tranforming technique."
   ]
  },
  {
   "cell_type": "code",
   "execution_count": 23,
   "metadata": {},
   "outputs": [
    {
     "data": {
      "image/png": "[encoded data removed]",
      "text/plain": [
       "<Figure size 800x500 with 1 Axes>"
      ]
     },
     "metadata": {},
     "output_type": "display_data"
    }
   ],
   "source": [
    "plt.figure(figsize=(8,5))\n",
    "sns.distplot(df['WarehouseToHome'],color='green')\n",
    "plt.show()"
   ]
  },
  {
   "attachments": {},
   "cell_type": "markdown",
   "metadata": {},
   "source": [
    "* The above WarehouseToHome feature is distributed to **positively skewed** so we perform the data tranforming technique."
   ]
  },
  {
   "cell_type": "code",
   "execution_count": 24,
   "metadata": {},
   "outputs": [
    {
     "data": {
      "image/png": "[encoded data removed]",
      "text/plain": [
       "<Figure size 800x500 with 1 Axes>"
      ]
     },
     "metadata": {},
     "output_type": "display_data"
    }
   ],
   "source": [
    "plt.figure(figsize=(8,5))\n",
    "plt.hist(x = df['PreferredLoginDevice'])\n",
    "plt.show()"
   ]
  },
  {
   "attachments": {},
   "cell_type": "markdown",
   "metadata": {},
   "source": [
    "* From the hist plot is to know the how many devices are present in the dataset\n",
    "* Mobile phone is 3000 values, phone is 1200, computer is 1800 values"
   ]
  },
  {
   "cell_type": "code",
   "execution_count": 25,
   "metadata": {},
   "outputs": [
    {
     "data": {
      "image/png": "[encoded data removed]",
      "text/plain": [
       "<Figure size 800x500 with 1 Axes>"
      ]
     },
     "metadata": {},
     "output_type": "display_data"
    },
    {
     "data": {
      "image/png": "[encoded data removed]",
      "text/plain": [
       "<Figure size 640x480 with 1 Axes>"
      ]
     },
     "metadata": {},
     "output_type": "display_data"
    },
    {
     "data": {
      "image/png": "[encoded data removed]",
      "text/plain": [
       "<Figure size 640x480 with 1 Axes>"
      ]
     },
     "metadata": {},
     "output_type": "display_data"
    },
    {
     "data": {
      "image/png": "[encoded data removed]",
      "text/plain": [
       "<Figure size 640x480 with 1 Axes>"
      ]
     },
     "metadata": {},
     "output_type": "display_data"
    }
   ],
   "source": [
    "plt.figure(figsize=(8,5))\n",
    "plt.hist(x = df['PreferredLoginDevice'])\n",
    "plt.xlabel(\"PreferredLoginDevice\")\n",
    "plt.show()\n",
    "\n",
    "\n",
    "plt.hist(x = df['PreferedOrderCat'])\n",
    "plt.xlabel(\"PreferedOrderCat\")\n",
    "plt.show()\n",
    "\n",
    "\n",
    "plt.hist(x = df['SatisfactionScore'])\n",
    "plt.xlabel(\"SatisfactionScore\")\n",
    "plt.show()\n",
    "\n",
    "plt.hist(x = df['OrderAmountHikeFromlastYear'])\n",
    "plt.xlabel(\"OrderAmountHikeFromlastYear\")\n",
    "plt.show()"
   ]
  },
  {
   "cell_type": "code",
   "execution_count": 26,
   "metadata": {},
   "outputs": [
    {
     "data": {
      "image/png": "[encoded data removed]",
      "text/plain": [
       "<Figure size 800x500 with 1 Axes>"
      ]
     },
     "metadata": {},
     "output_type": "display_data"
    }
   ],
   "source": [
    "plt.figure(figsize=(8,5))\n",
    "sns.distplot(df['CouponUsed'],color='green')\n",
    "plt.show()"
   ]
  },
  {
   "cell_type": "code",
   "execution_count": 27,
   "metadata": {},
   "outputs": [
    {
     "data": {
      "image/png": "[encoded data removed]",
      "text/plain": [
       "<Figure size 800x500 with 1 Axes>"
      ]
     },
     "metadata": {},
     "output_type": "display_data"
    }
   ],
   "source": [
    "plt.figure(figsize=(8,5))\n",
    "sns.distplot(df['CashbackAmount'],color='green')\n",
    "plt.show()\n",
    "\n"
   ]
  },
  {
   "attachments": {},
   "cell_type": "markdown",
   "metadata": {},
   "source": [
    "##### 4.4.1 GENDER COLUMN\n",
    "* How is distribution of Gender ?\n",
    "* Is gender has any impact on student's performance ?"
   ]
  },
  {
   "cell_type": "code",
   "execution_count": 28,
   "metadata": {},
   "outputs": [
    {
     "data": {
      "image/png": "[encoded data removed]",
      "text/plain": [
       "<Figure size 1500x1000 with 2 Axes>"
      ]
     },
     "metadata": {},
     "output_type": "display_data"
    }
   ],
   "source": [
    "f,ax=plt.subplots(1,2,figsize=(15,10))\n",
    "sns.countplot(x=df['Gender'],data=df,palette ='bright',ax=ax[0],saturation=0.95)\n",
    "for container in ax[0].containers:\n",
    "    ax[0].bar_label(container,color='black',size=20)\n",
    "    \n",
    "plt.pie(x=df['Gender'].value_counts(),labels=['Male','Female'],explode=[0,0.1],autopct='%1.1f%%',shadow=True,colors=['#ff4d4d','#ff8000'])\n",
    "plt.show()"
   ]
  },
  {
   "cell_type": "code",
   "execution_count": 29,
   "metadata": {},
   "outputs": [],
   "source": [
    "from sklearn.preprocessing import OneHotEncoder\n",
    "\n",
    "def one_hot_encoding(data):\n",
    "    categorical_column = data.select_dtypes(include=[\"object\"]).columns\n",
    "\n",
    "    one_hot_encoder = OneHotEncoder(sparse=False,handle_unknown=\"ignore\")\n",
    "    one_hot_encoded = one_hot_encoder.fit_transform(data[categorical_column])\n",
    "\n",
    "    one_hot_encoded = pd.DataFrame(\n",
    "        one_hot_encoded,columns=one_hot_encoder.get_feature_names_out(categorical_column)\n",
    "    )\n",
    "\n",
    "    data = data.drop(categorical_column,axis=1)\n",
    "\n",
    "    data = pd.concat([data,one_hot_encoded],axis=1)\n",
    "    return data"
   ]
  },
  {
   "cell_type": "code",
   "execution_count": 30,
   "metadata": {},
   "outputs": [],
   "source": [
    "df1 = one_hot_encoding(df)"
   ]
  },
  {
   "attachments": {},
   "cell_type": "markdown",
   "metadata": {},
   "source": [
    "#### Checking the features are normally distributed or not"
   ]
  },
  {
   "cell_type": "code",
   "execution_count": 31,
   "metadata": {},
   "outputs": [
    {
     "name": "stdout",
     "output_type": "stream",
     "text": [
      "statistics=432.805, p=0.000\n",
      "statistics=54831.638, p=0.000\n",
      "statistics=2352.941, p=0.000\n",
      "statistics=145.941, p=0.000\n",
      "statistics=187.234, p=0.000\n",
      "statistics=2713.033, p=0.000\n",
      "statistics=861.410, p=0.000\n",
      "statistics=2785.182, p=0.000\n",
      "statistics=486.953, p=0.000\n",
      "statistics=3186.180, p=0.000\n",
      "statistics=2528.694, p=0.000\n",
      "statistics=1462.443, p=0.000\n",
      "statistics=925.547, p=0.000\n",
      "statistics=1578.838, p=0.000\n",
      "[]\n"
     ]
    }
   ],
   "source": [
    "from scipy.stats import normaltest\n",
    "\n",
    "numerical_columns = df.select_dtypes(include=np.number).columns\n",
    "numerical_columns\n",
    "\n",
    "gaussian_columns = []\n",
    "non_gaussian_columns = []\n",
    "\n",
    "for col in numerical_columns:\n",
    "    stat , p = normaltest(df1[col])\n",
    "    print(\"statistics=%.3f, p=%.3f\" % (stat,p))\n",
    "\n",
    "    alpha = 0.05\n",
    "\n",
    "    if p > alpha:\n",
    "        gaussian_columns.append(col)\n",
    "    else:\n",
    "        non_gaussian_columns.append(col)\n",
    "\n",
    "print( gaussian_columns)\n"
   ]
  },
  {
   "attachments": {},
   "cell_type": "markdown",
   "metadata": {},
   "source": [
    "##### Insight\n",
    "* There are no normally distributed columns"
   ]
  },
  {
   "attachments": {},
   "cell_type": "markdown",
   "metadata": {},
   "source": [
    "#### Remove columns which are categorical and have less than 10 unique values "
   ]
  },
  {
   "cell_type": "code",
   "execution_count": 32,
   "metadata": {},
   "outputs": [
    {
     "name": "stdout",
     "output_type": "stream",
     "text": [
      "27\n"
     ]
    },
    {
     "data": {
      "text/html": [
       "<div>\n",
       "<style scoped>\n",
       "    .dataframe tbody tr th:only-of-type {\n",
       "        vertical-align: middle;\n",
       "    }\n",
       "\n",
       "    .dataframe tbody tr th {\n",
       "        vertical-align: top;\n",
       "    }\n",
       "\n",
       "    .dataframe thead th {\n",
       "        text-align: right;\n",
       "    }\n",
       "</style>\n",
       "<table border=\"1\" class=\"dataframe\">\n",
       "  <thead>\n",
       "    <tr style=\"text-align: right;\">\n",
       "      <th></th>\n",
       "      <th>Tenure</th>\n",
       "      <th>WarehouseToHome</th>\n",
       "      <th>NumberOfAddress</th>\n",
       "      <th>OrderAmountHikeFromlastYear</th>\n",
       "      <th>CouponUsed</th>\n",
       "      <th>OrderCount</th>\n",
       "      <th>DaySinceLastOrder</th>\n",
       "      <th>CashbackAmount</th>\n",
       "    </tr>\n",
       "  </thead>\n",
       "  <tbody>\n",
       "    <tr>\n",
       "      <th>0</th>\n",
       "      <td>4.000000</td>\n",
       "      <td>6.0</td>\n",
       "      <td>9</td>\n",
       "      <td>11.0</td>\n",
       "      <td>1.0</td>\n",
       "      <td>1.0</td>\n",
       "      <td>5.000000</td>\n",
       "      <td>160</td>\n",
       "    </tr>\n",
       "    <tr>\n",
       "      <th>1</th>\n",
       "      <td>10.189899</td>\n",
       "      <td>8.0</td>\n",
       "      <td>7</td>\n",
       "      <td>15.0</td>\n",
       "      <td>0.0</td>\n",
       "      <td>1.0</td>\n",
       "      <td>0.000000</td>\n",
       "      <td>121</td>\n",
       "    </tr>\n",
       "    <tr>\n",
       "      <th>2</th>\n",
       "      <td>10.189899</td>\n",
       "      <td>30.0</td>\n",
       "      <td>6</td>\n",
       "      <td>14.0</td>\n",
       "      <td>0.0</td>\n",
       "      <td>1.0</td>\n",
       "      <td>3.000000</td>\n",
       "      <td>120</td>\n",
       "    </tr>\n",
       "    <tr>\n",
       "      <th>3</th>\n",
       "      <td>0.000000</td>\n",
       "      <td>15.0</td>\n",
       "      <td>8</td>\n",
       "      <td>23.0</td>\n",
       "      <td>0.0</td>\n",
       "      <td>1.0</td>\n",
       "      <td>3.000000</td>\n",
       "      <td>134</td>\n",
       "    </tr>\n",
       "    <tr>\n",
       "      <th>4</th>\n",
       "      <td>0.000000</td>\n",
       "      <td>12.0</td>\n",
       "      <td>3</td>\n",
       "      <td>11.0</td>\n",
       "      <td>1.0</td>\n",
       "      <td>1.0</td>\n",
       "      <td>3.000000</td>\n",
       "      <td>130</td>\n",
       "    </tr>\n",
       "    <tr>\n",
       "      <th>...</th>\n",
       "      <td>...</td>\n",
       "      <td>...</td>\n",
       "      <td>...</td>\n",
       "      <td>...</td>\n",
       "      <td>...</td>\n",
       "      <td>...</td>\n",
       "      <td>...</td>\n",
       "      <td>...</td>\n",
       "    </tr>\n",
       "    <tr>\n",
       "      <th>5625</th>\n",
       "      <td>10.000000</td>\n",
       "      <td>30.0</td>\n",
       "      <td>6</td>\n",
       "      <td>18.0</td>\n",
       "      <td>1.0</td>\n",
       "      <td>2.0</td>\n",
       "      <td>4.000000</td>\n",
       "      <td>151</td>\n",
       "    </tr>\n",
       "    <tr>\n",
       "      <th>5626</th>\n",
       "      <td>13.000000</td>\n",
       "      <td>13.0</td>\n",
       "      <td>6</td>\n",
       "      <td>16.0</td>\n",
       "      <td>1.0</td>\n",
       "      <td>2.0</td>\n",
       "      <td>4.543491</td>\n",
       "      <td>225</td>\n",
       "    </tr>\n",
       "    <tr>\n",
       "      <th>5627</th>\n",
       "      <td>1.000000</td>\n",
       "      <td>11.0</td>\n",
       "      <td>3</td>\n",
       "      <td>21.0</td>\n",
       "      <td>1.0</td>\n",
       "      <td>2.0</td>\n",
       "      <td>4.000000</td>\n",
       "      <td>186</td>\n",
       "    </tr>\n",
       "    <tr>\n",
       "      <th>5628</th>\n",
       "      <td>23.000000</td>\n",
       "      <td>9.0</td>\n",
       "      <td>4</td>\n",
       "      <td>15.0</td>\n",
       "      <td>2.0</td>\n",
       "      <td>2.0</td>\n",
       "      <td>9.000000</td>\n",
       "      <td>179</td>\n",
       "    </tr>\n",
       "    <tr>\n",
       "      <th>5629</th>\n",
       "      <td>8.000000</td>\n",
       "      <td>15.0</td>\n",
       "      <td>4</td>\n",
       "      <td>13.0</td>\n",
       "      <td>2.0</td>\n",
       "      <td>2.0</td>\n",
       "      <td>3.000000</td>\n",
       "      <td>169</td>\n",
       "    </tr>\n",
       "  </tbody>\n",
       "</table>\n",
       "<p>5630 rows × 8 columns</p>\n",
       "</div>"
      ],
      "text/plain": [
       "         Tenure  WarehouseToHome  NumberOfAddress  \\\n",
       "0      4.000000              6.0                9   \n",
       "1     10.189899              8.0                7   \n",
       "2     10.189899             30.0                6   \n",
       "3      0.000000             15.0                8   \n",
       "4      0.000000             12.0                3   \n",
       "...         ...              ...              ...   \n",
       "5625  10.000000             30.0                6   \n",
       "5626  13.000000             13.0                6   \n",
       "5627   1.000000             11.0                3   \n",
       "5628  23.000000              9.0                4   \n",
       "5629   8.000000             15.0                4   \n",
       "\n",
       "      OrderAmountHikeFromlastYear  CouponUsed  OrderCount  DaySinceLastOrder  \\\n",
       "0                            11.0         1.0         1.0           5.000000   \n",
       "1                            15.0         0.0         1.0           0.000000   \n",
       "2                            14.0         0.0         1.0           3.000000   \n",
       "3                            23.0         0.0         1.0           3.000000   \n",
       "4                            11.0         1.0         1.0           3.000000   \n",
       "...                           ...         ...         ...                ...   \n",
       "5625                         18.0         1.0         2.0           4.000000   \n",
       "5626                         16.0         1.0         2.0           4.543491   \n",
       "5627                         21.0         1.0         2.0           4.000000   \n",
       "5628                         15.0         2.0         2.0           9.000000   \n",
       "5629                         13.0         2.0         2.0           3.000000   \n",
       "\n",
       "      CashbackAmount  \n",
       "0                160  \n",
       "1                121  \n",
       "2                120  \n",
       "3                134  \n",
       "4                130  \n",
       "...              ...  \n",
       "5625             151  \n",
       "5626             225  \n",
       "5627             186  \n",
       "5628             179  \n",
       "5629             169  \n",
       "\n",
       "[5630 rows x 8 columns]"
      ]
     },
     "execution_count": 32,
     "metadata": {},
     "output_type": "execute_result"
    }
   ],
   "source": [
    "# remove columns which are categorical and have less than 10 unique values \n",
    "\n",
    "col_to_remove = []\n",
    "for col in df1.columns:\n",
    "    if df1[col].nunique() < 10:\n",
    "        col_to_remove.append(col)\n",
    "print(len(col_to_remove))\n",
    "data_for_skewness = df1.drop(col_to_remove,axis=1)\n",
    "data_for_skewness"
   ]
  },
  {
   "cell_type": "code",
   "execution_count": 33,
   "metadata": {},
   "outputs": [
    {
     "data": {
      "text/plain": [
       "6"
      ]
     },
     "execution_count": 33,
     "metadata": {},
     "output_type": "execute_result"
    }
   ],
   "source": [
    "def identify_skewed_cols(data):\n",
    "    skewed_cols = []\n",
    "    for col in data.columns:\n",
    "        skew = data[col].skew()\n",
    "        if skew > 1 or skew < -1:\n",
    "            skewed_cols.append(col)\n",
    "    return skewed_cols\n",
    "\n",
    "skewed_col = identify_skewed_cols(data_for_skewness)\n",
    "len(skewed_col)"
   ]
  },
  {
   "cell_type": "code",
   "execution_count": 34,
   "metadata": {},
   "outputs": [],
   "source": [
    "skewed_data = data_for_skewness[skewed_col]"
   ]
  },
  {
   "cell_type": "code",
   "execution_count": 35,
   "metadata": {},
   "outputs": [
    {
     "data": {
      "text/html": [
       "<div>\n",
       "<style scoped>\n",
       "    .dataframe tbody tr th:only-of-type {\n",
       "        vertical-align: middle;\n",
       "    }\n",
       "\n",
       "    .dataframe tbody tr th {\n",
       "        vertical-align: top;\n",
       "    }\n",
       "\n",
       "    .dataframe thead th {\n",
       "        text-align: right;\n",
       "    }\n",
       "</style>\n",
       "<table border=\"1\" class=\"dataframe\">\n",
       "  <thead>\n",
       "    <tr style=\"text-align: right;\">\n",
       "      <th></th>\n",
       "      <th>WarehouseToHome</th>\n",
       "      <th>NumberOfAddress</th>\n",
       "      <th>CouponUsed</th>\n",
       "      <th>OrderCount</th>\n",
       "      <th>DaySinceLastOrder</th>\n",
       "      <th>CashbackAmount</th>\n",
       "    </tr>\n",
       "  </thead>\n",
       "  <tbody>\n",
       "    <tr>\n",
       "      <th>0</th>\n",
       "      <td>6.0</td>\n",
       "      <td>9</td>\n",
       "      <td>1.0</td>\n",
       "      <td>1.0</td>\n",
       "      <td>5.0</td>\n",
       "      <td>160</td>\n",
       "    </tr>\n",
       "    <tr>\n",
       "      <th>1</th>\n",
       "      <td>8.0</td>\n",
       "      <td>7</td>\n",
       "      <td>0.0</td>\n",
       "      <td>1.0</td>\n",
       "      <td>0.0</td>\n",
       "      <td>121</td>\n",
       "    </tr>\n",
       "    <tr>\n",
       "      <th>2</th>\n",
       "      <td>30.0</td>\n",
       "      <td>6</td>\n",
       "      <td>0.0</td>\n",
       "      <td>1.0</td>\n",
       "      <td>3.0</td>\n",
       "      <td>120</td>\n",
       "    </tr>\n",
       "    <tr>\n",
       "      <th>3</th>\n",
       "      <td>15.0</td>\n",
       "      <td>8</td>\n",
       "      <td>0.0</td>\n",
       "      <td>1.0</td>\n",
       "      <td>3.0</td>\n",
       "      <td>134</td>\n",
       "    </tr>\n",
       "    <tr>\n",
       "      <th>4</th>\n",
       "      <td>12.0</td>\n",
       "      <td>3</td>\n",
       "      <td>1.0</td>\n",
       "      <td>1.0</td>\n",
       "      <td>3.0</td>\n",
       "      <td>130</td>\n",
       "    </tr>\n",
       "  </tbody>\n",
       "</table>\n",
       "</div>"
      ],
      "text/plain": [
       "   WarehouseToHome  NumberOfAddress  CouponUsed  OrderCount  \\\n",
       "0              6.0                9         1.0         1.0   \n",
       "1              8.0                7         0.0         1.0   \n",
       "2             30.0                6         0.0         1.0   \n",
       "3             15.0                8         0.0         1.0   \n",
       "4             12.0                3         1.0         1.0   \n",
       "\n",
       "   DaySinceLastOrder  CashbackAmount  \n",
       "0                5.0             160  \n",
       "1                0.0             121  \n",
       "2                3.0             120  \n",
       "3                3.0             134  \n",
       "4                3.0             130  "
      ]
     },
     "execution_count": 35,
     "metadata": {},
     "output_type": "execute_result"
    }
   ],
   "source": [
    "skewed_data.head()"
   ]
  },
  {
   "cell_type": "code",
   "execution_count": 36,
   "metadata": {},
   "outputs": [
    {
     "name": "stdout",
     "output_type": "stream",
     "text": [
      "['WarehouseToHome', 'NumberOfAddress', 'CouponUsed', 'OrderCount', 'DaySinceLastOrder', 'CashbackAmount']\n"
     ]
    }
   ],
   "source": [
    "def deal_with_outlier_with_iqr(df, col):\n",
    "    percentile25 = df1[col].quantile(0.25)\n",
    "    percentile75 = df1[col].quantile(0.75)\n",
    "    iqr = percentile75 - percentile25\n",
    "    upper_limit = percentile75 + 1.5 * iqr\n",
    "    lower_limit = percentile25 - 1.5 * iqr\n",
    "    outliers = df1[(df1[col] > upper_limit) | (df1[col] < lower_limit)]\n",
    "    return outliers\n",
    "cols_have_outliers_skewed = []\n",
    "for col in skewed_col:\n",
    "    outliers = deal_with_outlier_with_iqr(df1, col)\n",
    "    shape = outliers.shape\n",
    "    if shape[0] > 0:\n",
    "        cols_have_outliers_skewed.append(col)\n",
    "print(cols_have_outliers_skewed)  "
   ]
  },
  {
   "cell_type": "code",
   "execution_count": 37,
   "metadata": {},
   "outputs": [
    {
     "data": {
      "text/plain": [
       "(5630, 35)"
      ]
     },
     "execution_count": 37,
     "metadata": {},
     "output_type": "execute_result"
    }
   ],
   "source": [
    "def capping(data,col):\n",
    "    percentile25 = data[col].quantile(0.25)\n",
    "    percentile75 = data[col].quantile(0.75)\n",
    "    iqr = percentile75 - percentile25\n",
    "    upper_limit = percentile75 + 1.5 * iqr\n",
    "    lower_limit = percentile25 - 1.5 * iqr\n",
    "    data.loc[data[col] > upper_limit , col] = upper_limit\n",
    "    data.loc[data[col] < lower_limit , col] = lower_limit\n",
    "    return data\n",
    "\n",
    "for col in  cols_have_outliers_skewed:\n",
    "    capped_data = capping(df1,col)\n",
    "capped_data.shape"
   ]
  },
  {
   "attachments": {},
   "cell_type": "markdown",
   "metadata": {},
   "source": [
    "##### The dataset is immbalanced to convert the balanced dataset"
   ]
  },
  {
   "attachments": {},
   "cell_type": "markdown",
   "metadata": {},
   "source": [
    "#### To use the oversampling technique"
   ]
  },
  {
   "cell_type": "code",
   "execution_count": 38,
   "metadata": {},
   "outputs": [],
   "source": [
    "#class count\n",
    "count_class_0, count_class_1 = capped_data.Churn.value_counts()\n",
    "\n",
    "# Divide by class \n",
    "df_class_0 = capped_data[capped_data['Churn'] == 0]\n",
    "df_class_1 = capped_data[capped_data['Churn'] == 1]"
   ]
  },
  {
   "cell_type": "code",
   "execution_count": 39,
   "metadata": {},
   "outputs": [
    {
     "data": {
      "text/plain": [
       "(4682, 35)"
      ]
     },
     "execution_count": 39,
     "metadata": {},
     "output_type": "execute_result"
    }
   ],
   "source": [
    "df_class_0.shape"
   ]
  },
  {
   "cell_type": "code",
   "execution_count": 40,
   "metadata": {},
   "outputs": [
    {
     "data": {
      "text/plain": [
       "(948, 35)"
      ]
     },
     "execution_count": 40,
     "metadata": {},
     "output_type": "execute_result"
    }
   ],
   "source": [
    "df_class_1.shape"
   ]
  },
  {
   "cell_type": "code",
   "execution_count": 41,
   "metadata": {},
   "outputs": [
    {
     "data": {
      "text/plain": [
       "(9364, 35)"
      ]
     },
     "execution_count": 41,
     "metadata": {},
     "output_type": "execute_result"
    }
   ],
   "source": [
    "df_class_1_over = df_class_1.sample(count_class_0,replace=True)\n",
    "\n",
    "df_test_over = pd.concat([df_class_0,df_class_1_over],axis=0)\n",
    "df_test_over.shape"
   ]
  },
  {
   "cell_type": "code",
   "execution_count": 42,
   "metadata": {},
   "outputs": [
    {
     "data": {
      "text/html": [
       "<div>\n",
       "<style scoped>\n",
       "    .dataframe tbody tr th:only-of-type {\n",
       "        vertical-align: middle;\n",
       "    }\n",
       "\n",
       "    .dataframe tbody tr th {\n",
       "        vertical-align: top;\n",
       "    }\n",
       "\n",
       "    .dataframe thead th {\n",
       "        text-align: right;\n",
       "    }\n",
       "</style>\n",
       "<table border=\"1\" class=\"dataframe\">\n",
       "  <thead>\n",
       "    <tr style=\"text-align: right;\">\n",
       "      <th></th>\n",
       "      <th>Tenure</th>\n",
       "      <th>CityTier</th>\n",
       "      <th>WarehouseToHome</th>\n",
       "      <th>HourSpendOnApp</th>\n",
       "      <th>NumberOfDeviceRegistered</th>\n",
       "      <th>SatisfactionScore</th>\n",
       "      <th>NumberOfAddress</th>\n",
       "      <th>Complain</th>\n",
       "      <th>OrderAmountHikeFromlastYear</th>\n",
       "      <th>CouponUsed</th>\n",
       "      <th>...</th>\n",
       "      <th>Gender_Male</th>\n",
       "      <th>PreferedOrderCat_Fashion</th>\n",
       "      <th>PreferedOrderCat_Grocery</th>\n",
       "      <th>PreferedOrderCat_Laptop &amp; Accessory</th>\n",
       "      <th>PreferedOrderCat_Mobile</th>\n",
       "      <th>PreferedOrderCat_Mobile Phone</th>\n",
       "      <th>PreferedOrderCat_Others</th>\n",
       "      <th>MaritalStatus_Divorced</th>\n",
       "      <th>MaritalStatus_Married</th>\n",
       "      <th>MaritalStatus_Single</th>\n",
       "    </tr>\n",
       "  </thead>\n",
       "  <tbody>\n",
       "    <tr>\n",
       "      <th>26</th>\n",
       "      <td>8.000000</td>\n",
       "      <td>3</td>\n",
       "      <td>6.000000</td>\n",
       "      <td>3.0</td>\n",
       "      <td>3</td>\n",
       "      <td>4</td>\n",
       "      <td>2</td>\n",
       "      <td>0</td>\n",
       "      <td>13.0</td>\n",
       "      <td>1.0</td>\n",
       "      <td>...</td>\n",
       "      <td>1.0</td>\n",
       "      <td>1.0</td>\n",
       "      <td>0.0</td>\n",
       "      <td>0.0</td>\n",
       "      <td>0.0</td>\n",
       "      <td>0.0</td>\n",
       "      <td>0.0</td>\n",
       "      <td>1.0</td>\n",
       "      <td>0.0</td>\n",
       "      <td>0.0</td>\n",
       "    </tr>\n",
       "    <tr>\n",
       "      <th>27</th>\n",
       "      <td>10.189899</td>\n",
       "      <td>3</td>\n",
       "      <td>12.000000</td>\n",
       "      <td>2.0</td>\n",
       "      <td>3</td>\n",
       "      <td>3</td>\n",
       "      <td>3</td>\n",
       "      <td>1</td>\n",
       "      <td>20.0</td>\n",
       "      <td>0.0</td>\n",
       "      <td>...</td>\n",
       "      <td>1.0</td>\n",
       "      <td>0.0</td>\n",
       "      <td>0.0</td>\n",
       "      <td>1.0</td>\n",
       "      <td>0.0</td>\n",
       "      <td>0.0</td>\n",
       "      <td>0.0</td>\n",
       "      <td>1.0</td>\n",
       "      <td>0.0</td>\n",
       "      <td>0.0</td>\n",
       "    </tr>\n",
       "    <tr>\n",
       "      <th>28</th>\n",
       "      <td>18.000000</td>\n",
       "      <td>1</td>\n",
       "      <td>15.639896</td>\n",
       "      <td>2.0</td>\n",
       "      <td>3</td>\n",
       "      <td>4</td>\n",
       "      <td>9</td>\n",
       "      <td>0</td>\n",
       "      <td>18.0</td>\n",
       "      <td>1.0</td>\n",
       "      <td>...</td>\n",
       "      <td>1.0</td>\n",
       "      <td>0.0</td>\n",
       "      <td>0.0</td>\n",
       "      <td>1.0</td>\n",
       "      <td>0.0</td>\n",
       "      <td>0.0</td>\n",
       "      <td>0.0</td>\n",
       "      <td>0.0</td>\n",
       "      <td>1.0</td>\n",
       "      <td>0.0</td>\n",
       "    </tr>\n",
       "    <tr>\n",
       "      <th>29</th>\n",
       "      <td>5.000000</td>\n",
       "      <td>3</td>\n",
       "      <td>14.000000</td>\n",
       "      <td>2.0</td>\n",
       "      <td>3</td>\n",
       "      <td>2</td>\n",
       "      <td>2</td>\n",
       "      <td>0</td>\n",
       "      <td>14.0</td>\n",
       "      <td>2.0</td>\n",
       "      <td>...</td>\n",
       "      <td>0.0</td>\n",
       "      <td>1.0</td>\n",
       "      <td>0.0</td>\n",
       "      <td>0.0</td>\n",
       "      <td>0.0</td>\n",
       "      <td>0.0</td>\n",
       "      <td>0.0</td>\n",
       "      <td>0.0</td>\n",
       "      <td>0.0</td>\n",
       "      <td>1.0</td>\n",
       "    </tr>\n",
       "    <tr>\n",
       "      <th>30</th>\n",
       "      <td>2.000000</td>\n",
       "      <td>1</td>\n",
       "      <td>6.000000</td>\n",
       "      <td>2.0</td>\n",
       "      <td>3</td>\n",
       "      <td>3</td>\n",
       "      <td>2</td>\n",
       "      <td>0</td>\n",
       "      <td>13.0</td>\n",
       "      <td>0.0</td>\n",
       "      <td>...</td>\n",
       "      <td>1.0</td>\n",
       "      <td>0.0</td>\n",
       "      <td>0.0</td>\n",
       "      <td>1.0</td>\n",
       "      <td>0.0</td>\n",
       "      <td>0.0</td>\n",
       "      <td>0.0</td>\n",
       "      <td>1.0</td>\n",
       "      <td>0.0</td>\n",
       "      <td>0.0</td>\n",
       "    </tr>\n",
       "  </tbody>\n",
       "</table>\n",
       "<p>5 rows × 35 columns</p>\n",
       "</div>"
      ],
      "text/plain": [
       "       Tenure  CityTier  WarehouseToHome  HourSpendOnApp  \\\n",
       "26   8.000000         3         6.000000             3.0   \n",
       "27  10.189899         3        12.000000             2.0   \n",
       "28  18.000000         1        15.639896             2.0   \n",
       "29   5.000000         3        14.000000             2.0   \n",
       "30   2.000000         1         6.000000             2.0   \n",
       "\n",
       "    NumberOfDeviceRegistered  SatisfactionScore  NumberOfAddress  Complain  \\\n",
       "26                         3                  4                2         0   \n",
       "27                         3                  3                3         1   \n",
       "28                         3                  4                9         0   \n",
       "29                         3                  2                2         0   \n",
       "30                         3                  3                2         0   \n",
       "\n",
       "    OrderAmountHikeFromlastYear  CouponUsed  ...  Gender_Male  \\\n",
       "26                         13.0         1.0  ...          1.0   \n",
       "27                         20.0         0.0  ...          1.0   \n",
       "28                         18.0         1.0  ...          1.0   \n",
       "29                         14.0         2.0  ...          0.0   \n",
       "30                         13.0         0.0  ...          1.0   \n",
       "\n",
       "    PreferedOrderCat_Fashion  PreferedOrderCat_Grocery  \\\n",
       "26                       1.0                       0.0   \n",
       "27                       0.0                       0.0   \n",
       "28                       0.0                       0.0   \n",
       "29                       1.0                       0.0   \n",
       "30                       0.0                       0.0   \n",
       "\n",
       "    PreferedOrderCat_Laptop & Accessory  PreferedOrderCat_Mobile  \\\n",
       "26                                  0.0                      0.0   \n",
       "27                                  1.0                      0.0   \n",
       "28                                  1.0                      0.0   \n",
       "29                                  0.0                      0.0   \n",
       "30                                  1.0                      0.0   \n",
       "\n",
       "    PreferedOrderCat_Mobile Phone  PreferedOrderCat_Others  \\\n",
       "26                            0.0                      0.0   \n",
       "27                            0.0                      0.0   \n",
       "28                            0.0                      0.0   \n",
       "29                            0.0                      0.0   \n",
       "30                            0.0                      0.0   \n",
       "\n",
       "    MaritalStatus_Divorced  MaritalStatus_Married  MaritalStatus_Single  \n",
       "26                     1.0                    0.0                   0.0  \n",
       "27                     1.0                    0.0                   0.0  \n",
       "28                     0.0                    1.0                   0.0  \n",
       "29                     0.0                    0.0                   1.0  \n",
       "30                     1.0                    0.0                   0.0  \n",
       "\n",
       "[5 rows x 35 columns]"
      ]
     },
     "execution_count": 42,
     "metadata": {},
     "output_type": "execute_result"
    }
   ],
   "source": [
    "df_test_over.head()"
   ]
  },
  {
   "cell_type": "code",
   "execution_count": 43,
   "metadata": {},
   "outputs": [],
   "source": [
    "df_test_over.to_csv(r\"C:\\Users\\SAI DURGA PRASAD\\Desktop\\Customer churn prediction\\notebook\\data\\processed_data.csv\",index=False)"
   ]
  }
 ],
 "metadata": {
  "kernelspec": {
   "display_name": "venv",
   "language": "python",
   "name": "python3"
  },
  "language_info": {
   "codemirror_mode": {
    "name": "ipython",
    "version": 3
   },
   "file_extension": ".py",
   "mimetype": "text/x-python",
   "name": "python",
   "nbconvert_exporter": "python",
   "pygments_lexer": "ipython3",
   "version": "3.10.9"
  },
  "orig_nbformat": 4,
  "vscode": {
   "interpreter": {
    "hash": "224437ffac2ba7e0f3ecabd66c18d5bdb8b873a0450c50c12b970db83398ecda"
   }
  }
 },
 "nbformat": 4,
 "nbformat_minor": 2
}
